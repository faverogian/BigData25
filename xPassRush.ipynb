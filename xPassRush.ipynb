{
 "cells": [
  {
   "cell_type": "code",
   "execution_count": 8,
   "metadata": {},
   "outputs": [],
   "source": [
    "\n",
    "import pandas as pd\n",
    "import numpy as np\n",
    "import matplotlib.pyplot as plt\n"
   ]
  },
  {
   "cell_type": "code",
   "execution_count": 34,
   "metadata": {},
   "outputs": [],
   "source": [
    "\n",
    "#import dataset\n",
    "\n",
    "df_raw = pd.read_csv('data/processed/df_clean.csv')\n",
    "\n",
    "cols_to_use = [\n",
    "      'gameId', 'playId', 'frameId', 'nflId', 'displayName',\n",
    "      'position', 'club', 'possessionTeam', 'defensiveTeam',\n",
    "      'preSnapHomeScore', 'preSnapVisitorScore', 'quarter',\n",
    "      'gameClock', 'down', 'yardsToGo', 'yardlineNumber',\n",
    "      'yardlineSide', 'offenseFormation', 'receiverAlignment',\n",
    "      'preSnapHomeTeamWinProbability', 'preSnapVisitorTeamWinProbability',\n",
    "      'o_clean', 'a_clean', 's_clean', 'x_clean', 'y_clean', 'dir_clean',\n",
    "      'playDescription', 'passLocationType', 'rushLocationType', \n",
    "      'pff_runConceptPrimary', 'yardsGained', 'wasInitialPassRusher', 'event'\n",
    "      ]\n",
    "\n",
    "df = df_raw[cols_to_use]\n",
    "\n"
   ]
  },
  {
   "cell_type": "code",
   "execution_count": 35,
   "metadata": {},
   "outputs": [
    {
     "name": "stdout",
     "output_type": "stream",
     "text": [
      "       gameId  playId  frameId  nflId      displayName position club  \\\n",
      "0  2022090800      56       76  35472   Rodger Saffold        G  BUF   \n",
      "2  2022090800      56       76  42392      Mitch Morse        C  BUF   \n",
      "4  2022090800      56       76  42489     Stefon Diggs       WR  BUF   \n",
      "6  2022090800      56       76  44875     Dion Dawkins        T  BUF   \n",
      "8  2022090800      56       76  44985  Isaiah McKenzie       WR  BUF   \n",
      "\n",
      "  possessionTeam defensiveTeam  preSnapHomeScore  ...  y_clean  dir_clean  \\\n",
      "0            BUF            LA                 0  ...     2816       2563   \n",
      "2            BUF            LA                 0  ...     2957       2844   \n",
      "4            BUF            LA                 0  ...     2791       1775   \n",
      "6            BUF            LA                 0  ...     2634       3497   \n",
      "8            BUF            LA                 0  ...     1817       3047   \n",
      "\n",
      "                                     playDescription  passLocationType  \\\n",
      "0  (15:00) (Shotgun) J.Allen pass short right to ...        INSIDE_BOX   \n",
      "2  (15:00) (Shotgun) J.Allen pass short right to ...        INSIDE_BOX   \n",
      "4  (15:00) (Shotgun) J.Allen pass short right to ...        INSIDE_BOX   \n",
      "6  (15:00) (Shotgun) J.Allen pass short right to ...        INSIDE_BOX   \n",
      "8  (15:00) (Shotgun) J.Allen pass short right to ...        INSIDE_BOX   \n",
      "\n",
      "   rushLocationType  pff_runConceptPrimary yardsGained wasInitialPassRusher  \\\n",
      "0               NaN                    NaN           6                  NaN   \n",
      "2               NaN                    NaN           6                  NaN   \n",
      "4               NaN                    NaN           6                  NaN   \n",
      "6               NaN                    NaN           6                  NaN   \n",
      "8               NaN                    NaN           6                  NaN   \n",
      "\n",
      "      event  creptDist  \n",
      "0  line_set       -7.0  \n",
      "2  line_set      -11.0  \n",
      "4  line_set       78.0  \n",
      "6  line_set        9.0  \n",
      "8  line_set        0.0  \n",
      "\n",
      "[5 rows x 35 columns]\n",
      "       displayName position  o_clean  a_clean  s_clean  x_clean  y_clean  \\\n",
      "0   Rodger Saffold        G     2793        3        3     3398     2816   \n",
      "2      Mitch Morse        C     2825        5        5     3454     2957   \n",
      "4     Stefon Diggs       WR     1950       12      449     3298     2791   \n",
      "6     Dion Dawkins        T     2851        3        2     3401     2634   \n",
      "8  Isaiah McKenzie       WR     2795        3        5     3374     1817   \n",
      "\n",
      "   dir_clean  wasInitialPassRusher     event  \n",
      "0       2563                   NaN  line_set  \n",
      "2       2844                   NaN  line_set  \n",
      "4       1775                   NaN  line_set  \n",
      "6       3497                   NaN  line_set  \n",
      "8       3047                   NaN  line_set  \n"
     ]
    },
    {
     "name": "stderr",
     "output_type": "stream",
     "text": [
      "/var/folders/_g/lng396814dx5ldkl26h6w3y00000gn/T/ipykernel_2429/3958585317.py:16: SettingWithCopyWarning: \n",
      "A value is trying to be set on a copy of a slice from a DataFrame.\n",
      "Try using .loc[row_indexer,col_indexer] = value instead\n",
      "\n",
      "See the caveats in the documentation: https://pandas.pydata.org/pandas-docs/stable/user_guide/indexing.html#returning-a-view-versus-a-copy\n",
      "  df['creptDist'] = df.set_index(['gameId', 'playId', 'nflId']).index.map(crept_up_dict)\n"
     ]
    }
   ],
   "source": [
    "\n",
    "\n",
    "#we need to group by game_id, play_id, and player_id, then find the x coordinate for the row where event = \"line_set\" and the row where event = \"ball_snapped\"\n",
    "\n",
    "#then we can subtract the x coordinate for the \"line_set\" row from the x coordinate for the \"ball_snapped\" row\n",
    "\n",
    "#we can then add this value to the dataframe as a new column\n",
    "#actually since we're removing all frames between line_set and ball snapped we can just take the difference in the x coordinates between the two rows\n",
    "\n",
    "#group df by unique game_id, play_id, player_id, and find the difference in x coord between two rows (line_set and ball_snapped), will be positive for crept forward\n",
    "grouped_df = df.groupby(['gameId', 'playId', 'nflId'])\n",
    "crept_up_dict = grouped_df['x_clean'].apply(lambda g: g.diff().iloc[-1]).to_dict()\n",
    "\n",
    "#now we can get rid of line_set rows\n",
    "df = df[df['event'] == 'line_set']\n",
    "\n",
    "# add crept up distance to df by mapping the dictionary to the index of the df\n",
    "df['creptDist'] = df.set_index(['gameId', 'playId', 'nflId']).index.map(crept_up_dict)\n",
    "\n",
    "print(df.head())\n",
    "\n",
    "columns = ['displayName', 'position', 'o_clean', 'a_clean', 's_clean', 'x_clean', 'y_clean', 'dir_clean',  'wasInitialPassRusher', 'event']\n",
    "print(df[columns].head())"
   ]
  },
  {
   "cell_type": "code",
   "execution_count": 38,
   "metadata": {},
   "outputs": [
    {
     "name": "stdout",
     "output_type": "stream",
     "text": [
      "            gameId  playId  frameId   displayName  o_clean  a_clean  s_clean  \\\n",
      "24      2022090800      56       76  Aaron Donald      721        9        9   \n",
      "107934  2022091807      56       66  Aaron Donald      946      136       45   \n",
      "\n",
      "        x_clean  y_clean  dir_clean  wasInitialPassRusher     event  creptDist  \n",
      "24         3606     3219        856                   1.0  line_set      -22.0  \n",
      "107934     3618     2078        199                   1.0  line_set      -82.0  \n"
     ]
    }
   ],
   "source": [
    "\n",
    "columns = ['gameId', 'playId','frameId', 'displayName', 'o_clean', 'a_clean', 's_clean', 'x_clean', 'y_clean', 'dir_clean',  'wasInitialPassRusher', 'event', 'creptDist']\n",
    "print(df[(df['displayName']==\"Aaron Donald\") & (df['playId']==56)][columns].head(10))"
   ]
  },
  {
   "cell_type": "code",
   "execution_count": 13,
   "metadata": {},
   "outputs": [
    {
     "name": "stdout",
     "output_type": "stream",
     "text": [
      "count    293875.000000\n",
      "mean         -2.330746\n",
      "std         109.062958\n",
      "min       -1403.000000\n",
      "25%         -25.000000\n",
      "50%          -2.000000\n",
      "75%           9.000000\n",
      "max        1399.000000\n",
      "Name: creptDist, dtype: float64\n"
     ]
    }
   ],
   "source": [
    "print(df['creptDist'].describe())"
   ]
  },
  {
   "cell_type": "code",
   "execution_count": null,
   "metadata": {},
   "outputs": [],
   "source": [
    "\n",
    "#now calculate horizontal distance to the ball for each player\n",
    "# we get the y coord. of the ball by using the y coord. of the center.\n",
    "\n",
    "#so we want to group by game_id, play_id, get the y coord of the player with \"position\" = \"C\" \n",
    "#then loop through each player on the defense and calculate the horizontal distance to the ball by subtracting their y coord. with the y coord. of the center\n",
    "#then we'll add this value to the dataframe as a new column\n",
    "\n",
    "#group df by unique game_id, play_id, player_id, and find the y coord of the player with position = \"C\"\n",
    "grouped_df = df.groupby(['game_id', 'play_id'])\n",
    "center_y_dict = grouped_df['y'].apply(lambda g: g[g['position'] == 'C'].iloc[0]).to_dict()\n",
    "\n",
    "#add center_y to df by mapping the dictionary to the index of the df\n",
    "df['center_y'] = df.set_index(['game_id', 'play_id']).index.map(center_y_dict)\n",
    "\n",
    "#calculate horizontal distance to the ball for each player\n",
    "df['hDist'] = df['y'] - df['center_y']\n",
    "\n",
    "print(df.head())\n",
    "\n"
   ]
  },
  {
   "cell_type": "code",
   "execution_count": null,
   "metadata": {},
   "outputs": [],
   "source": [
    "\n",
    "# now we need to calculate distance from teh line of scrimmage, which is the difference between the x coordinate of the player and the line of scrimmage\n",
    "# we can simply take the difference in x coordinates between each player and \"yardlineNumber\" for each play\n",
    "\n",
    "df['losDist'] = df['x'] - df['yardlineNumber']\n",
    "\n",
    "#and the final feature is just the players orientation i think?\n",
    "\n",
    "features = ['wasInitialPassRusher', 'creptDist', 'hDist', 'losDist', 'o']\n",
    "\n",
    "df_model = df[features]\n"
   ]
  }
 ],
 "metadata": {
  "kernelspec": {
   "display_name": "venv",
   "language": "python",
   "name": "python3"
  },
  "language_info": {
   "codemirror_mode": {
    "name": "ipython",
    "version": 3
   },
   "file_extension": ".py",
   "mimetype": "text/x-python",
   "name": "python",
   "nbconvert_exporter": "python",
   "pygments_lexer": "ipython3",
   "version": "3.12.4"
  }
 },
 "nbformat": 4,
 "nbformat_minor": 2
}
