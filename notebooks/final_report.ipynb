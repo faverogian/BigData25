{
 "cells": [
  {
   "cell_type": "markdown",
   "metadata": {},
   "source": [
    "Notebook requirements\n",
    "Undergraduate and Metric Track only.\n",
    "\n",
    "Notebooks should contain no more than 2,000 words and less than ten tables/figures. Submissions over this limit may be subject to penalty. Participants are encouraged to show statistical code if it helps readers better understand their analyses. However, most code should be hidden in the Appendix."
   ]
  },
  {
   "cell_type": "markdown",
   "metadata": {},
   "source": [
    "# An Audible Efficiency Metric for QB/OC Duos\n",
    "\n",
    "Metric Track | Authors: Gian Favero, Michael Montemurri"
   ]
  },
  {
   "cell_type": "markdown",
   "metadata": {},
   "source": [
    "## Introduction\n",
    "\n",
    "In football analytics, traditional metrics often focus on high-level outcomes such as yardage gained or win probability shifts without considering the context of the plays leading to those results. A play's success depends on a variety of factors: the game situation, offensive strategy, defensive alignment, and the specific play call itself. However, these elements are typically assessed separately, without a unified approach to understanding their combined influence on game outcomes.\n",
    "In this work, we propose a new methodology to analyze football plays by leveraging a pre-trained LLM that integrates game context, offensive and defensive contexts, and the play call itself. We train a regressor head to predict two key performance metrics from the play call:\n",
    "\n",
    "1. Expected Yards Gained (xYards): The predicted yardage that will likely be achieved based on the specific play context and strategy.\n",
    "\n",
    "2. Win Probability Added (xWPA): The change in the likelihood of winning the game attributed to the play's outcome.\n",
    "\n",
    "By incorporating the full context of each play, this approach aims to provide deeper insights into the factors that drive success or failure, allowing for a more nuanced evaluation of play calls. The model processes a sentence prompt that encodes the relevant game context and play call, predicting outcomes that can inform strategic decision-making and player performance analysis.\n",
    "\n",
    "This methodology offers an innovative perspective on football analytics, blending natural language processing with sports statistics to improve play evaluation and potentially enhance coaching and game planning decisions.\n",
    "\n",
    "Should include a graphic here"
   ]
  },
  {
   "cell_type": "markdown",
   "metadata": {},
   "source": [
    "\n",
    "## Methodology\n",
    "\n",
    "### The xYardsGained and xWinProbAdded Model\n",
    "\n",
    "We trained a regression model on top of the BERT architecture to predict expected yards gained and win probability added for NFL plays. The model was fine-tuned using play-by-play data, where each input consisted of game context, offensive and defensive contexts, and the play call. The target variables were the yards gained and the win probability added by the play. Training examples were derived from historical NFL data, which provided detailed information on play outcomes, such as yardage gained and win probability shifts. The game context, including the situation (e.g., down, distance, field position) and player performance data, was embedded into the model's input. By training the model on these examples, the regression head was able to predict the expected outcomes for a given play, considering the influence of both offensive and defensive conditions.\n",
    "\n",
    "### Feature Selection:\n",
    "\n",
    "1. **Game Context**: We captured details such as the quarter, down, yards to go, yardline position, game clock, team scores, possession, and win probability for both home and visitor teams. This data encapsulated the situation of the game and how it influences play outcomes.\n",
    "\n",
    "2. **Offensive Context**: Features related to the offensive team’s formation and receiver alignment were extracted, which describe how the offense is positioned at the time of the play. These contextualized the offensive approach.\n",
    "\n",
    "3. **Defensive Context**: We included details on the defensive team’s formation and pass coverage, along with the number of pass rushers from various positions (cornerbacks, safeties, linebackers, etc.) derived from the winning Coaches' Track submission from 2023, xPassRush.\n",
    "\n",
    "4. **Play Context**: Play choices were simplified into a series of run concepts (power, zone, misdirection, and trick) and pass concepts (depth, area of field, play action)\n",
    "\n",
    "5. **Outcome Context**: The outcomes of each play, such as yards gained and win probability added, were used as labels to train the model. \n",
    "\n",
    "**Example Prompt**: It is 3 quarter with 09:24 left. It is 1 down with 10 yards to go. The ball is on the LA 22 yardline. The score is LA 10 - BUF 10. BUF have the ball. Current win probability for LA is 0.32 and for BUF it is 0.68. The offense is in shotgun formation with the receivers aligned in 2x2. The defense is in zone coverage with cover-3 seam formation. The defense is rushing 0 cornerbacks, 0 safeties, 0 inside linebackers, 2 outside linebackers, 0 defensive ends, and 3 interior defensive linemen. The offense play call is a short inside box pass.\n",
    "\n",
    "Predicted xYards: 6.46\n",
    "\n",
    "Actual Yards Gained: 7\n",
    "\n",
    "% we should show the xPassRush examples for THIS play. \n",
    "\n",
    "% demonstrate changing predicted xYards for different play call?\n",
    "\n",
    "### Model Performance\n",
    "\n",
    "Comparison of RMSE to baseline XGB model on both metrics here? Maybe recreate visual demonstrating volatility of metrics with different play calls for different plays (like what we have for xgb baseline.)\n"
   ]
  },
  {
   "cell_type": "markdown",
   "metadata": {},
   "source": [
    "## The Audible Efficiency Metric\n",
    "\n",
    "With our expected yards gained (xYardsGained) metric incorporating game context and offensive/defensive formations, we can now evaluate the optimal offensive play call for each situation. By calculating expected yards gained for all possible play calls, we rank each option based on a combination of xYardsGained and xWinProbabilityAdded. This ranking allows us to identify the \"optimal play\" for a given game and player context.\n",
    "\n",
    "To assess a team's decision-making, we use a grading system: the optimal play receives the highest score (16), with subsequent play calls receiving one point less as they move down the ranking. The resulting **Audible Efficiency Metric** serves as a measure of how effectively a team selects plays relative to the optimal choice, providing a clear evaluation of their play-calling strategy."
   ]
  },
  {
   "cell_type": "markdown",
   "metadata": {},
   "source": [
    "## Team Evaluation"
   ]
  },
  {
   "cell_type": "markdown",
   "metadata": {},
   "source": [
    "Here, we provide an evaluation of teams in past seasons and show correlation between teams with a greater AudibleEfficiency and the team's success. "
   ]
  }
 ],
 "metadata": {
  "language_info": {
   "name": "python"
  }
 },
 "nbformat": 4,
 "nbformat_minor": 2
}
