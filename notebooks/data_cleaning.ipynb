{
 "cells": [
  {
   "cell_type": "markdown",
   "metadata": {},
   "source": [
    "### Data Processing Pipeline\n",
    "  \n",
    "*Gian Favero and Michael Montemurri, Mila, 2024*\n",
    "\n",
    "This notebook performs the following steps for the 2025 NFL Big Data Bowl competition:\n",
    "1. Load raw data from `players.csv`, `player_play.csv`, `plays.csv`, and `tracking_week_X.csv`.\n",
    "2. Clean and preprocess data. \n",
    "3. Save data to be used later on downstream tasks."
   ]
  },
  {
   "cell_type": "code",
   "execution_count": 1,
   "metadata": {},
   "outputs": [
    {
     "name": "stdout",
     "output_type": "stream",
     "text": [
      "/cim/faverog/BigData25/notebooks\n"
     ]
    },
    {
     "data": {
      "text/plain": [
       "<torch._C.Generator at 0x7fa79cbbf6b0>"
      ]
     },
     "execution_count": 1,
     "metadata": {},
     "output_type": "execute_result"
    }
   ],
   "source": [
    "import random\n",
    "import os\n",
    "import torch\n",
    "import numpy as np\n",
    "\n",
    "root_dir = os.getcwd()\n",
    "print(root_dir)\n",
    "\n",
    "# Go back a directory to access the data folder\n",
    "os.chdir(os.path.join(root_dir, '..'))\n",
    "\n",
    "from data.scripts.data_cleaning import clean_data, aggregate_data, strip_unused_data\n",
    "\n",
    "# set manual custom seed for reproducibility\n",
    "def set_random_seed(value): \n",
    "    g = torch.manual_seed(value)   \n",
    "    np.random.seed(value)\n",
    "    random.seed(value)\n",
    "    torch.backends.cudnn.deterministic=True\n",
    "    return g\n",
    "\n",
    "# set seed\n",
    "set_random_seed(42)"
   ]
  },
  {
   "cell_type": "markdown",
   "metadata": {},
   "source": [
    "### Pre-Processing Steps\n",
    "\n",
    "1. Based on \"Uncovering Tackle Opportunities and Missed Opportunities\", a 2024 NFL Big Data Bowl Finalist\n",
    "2. All plays are flipped such that xy-coordinate based data is for a team driving left to right\n",
    "3. All player orientation (angle) is from a reference of 0 degrees (right) and rotates counter clockwise\n",
    "4. Plays nullified by penalties are removed (there are none)\n",
    "5. Plays that are a QB kneel, spike, or sneak are removed.\n",
    "6. Plays that occur when `preSnapHomeTeamWinProbability` or `preSnapVisitorTeamWinProbability` are greater than 95% are removed. This is commonly referred to as \"garbage time\" and the losing team often stat pads here.\n",
    "7. `player_play.csv`, `players.csv`, and `tracking_week_X.csv` are merged on the `[\"gameId\", \"playId\", \"nflId\"]` axes, \n",
    "which is then merged with plays.csv on the `[\"gameId\", \"playId\", \"nflId\"]` axes."
   ]
  },
  {
   "cell_type": "code",
   "execution_count": 2,
   "metadata": {},
   "outputs": [
    {
     "name": "stdout",
     "output_type": "stream",
     "text": [
      "INFO: Aggregating data from players, play data, tracking data, and players data into a master dataframe...\n",
      "INFO: Loaded 16124 rows of plays, 354727 rows of player plays, and 59327373 rows of player tracking data\n",
      "INFO: Aggregated dataframe has 56747802 rows\n",
      "INFO: Removing inactive frames...\n",
      "INFO: 56042924 rows removed\n",
      "INFO: Removing garbage time frames...\n",
      "INFO: 107008 rows removed\n",
      "INFO: Transforming orientation and direction angles so that 0° points from left to right, and increasing angle goes counterclockwise...\n",
      "INFO: Flipping plays so that they all run from left to right...\n",
      "INFO: Removing QB kneels, spikes, sneaks...\n",
      "INFO: 6666 rows removed\n",
      "INFO: Converting geometry variables from floats to int...\n",
      "INFO: Removing unused columns from dataframe...\n",
      "INFO: 95 columns removed\n",
      "shape: (5, 41)\n",
      "┌────────────┬────────┬────────────┬───────────┬───┬───────────┬───────────┬───────────┬───────────┐\n",
      "│ gameId     ┆ playId ┆ homeTeamAb ┆ visitorTe ┆ … ┆ pff_runCo ┆ yardsGain ┆ homeTeamW ┆ visitorTe │\n",
      "│ ---        ┆ ---    ┆ br         ┆ amAbbr    ┆   ┆ nceptPrim ┆ ed        ┆ inProbabi ┆ amWinProb │\n",
      "│ i64        ┆ i64    ┆ ---        ┆ ---       ┆   ┆ ary       ┆ ---       ┆ lityAdded ┆ ilityAdde │\n",
      "│            ┆        ┆ str        ┆ str       ┆   ┆ ---       ┆ i64       ┆ ---       ┆ d         │\n",
      "│            ┆        ┆            ┆           ┆   ┆ str       ┆           ┆ f64       ┆ ---       │\n",
      "│            ┆        ┆            ┆           ┆   ┆           ┆           ┆           ┆ f64       │\n",
      "╞════════════╪════════╪════════════╪═══════════╪═══╪═══════════╪═══════════╪═══════════╪═══════════╡\n",
      "│ 2022090800 ┆ 56     ┆ LA         ┆ BUF       ┆ … ┆ null      ┆ 6         ┆ -0.000031 ┆ 0.000031  │\n",
      "│ 2022090800 ┆ 56     ┆ LA         ┆ BUF       ┆ … ┆ null      ┆ 6         ┆ -0.000031 ┆ 0.000031  │\n",
      "│ 2022090800 ┆ 56     ┆ LA         ┆ BUF       ┆ … ┆ null      ┆ 6         ┆ -0.000031 ┆ 0.000031  │\n",
      "│ 2022090800 ┆ 56     ┆ LA         ┆ BUF       ┆ … ┆ null      ┆ 6         ┆ -0.000031 ┆ 0.000031  │\n",
      "│ 2022090800 ┆ 56     ┆ LA         ┆ BUF       ┆ … ┆ null      ┆ 6         ┆ -0.000031 ┆ 0.000031  │\n",
      "└────────────┴────────┴────────────┴───────────┴───┴───────────┴───────────┴───────────┴───────────┘\n",
      "['gameId', 'playId', 'homeTeamAbbr', 'visitorTeamAbbr', 'frameId', 'nflId', 'displayName', 'position', 'club', 'down', 'quarter', 'yardsToGo', 'possessionTeam', 'defensiveTeam', 'yardlineSide', 'yardlineNumber', 'gameClock', 'preSnapHomeScore', 'preSnapVisitorScore', 'event', 'offenseFormation', 'receiverAlignment', 'preSnapHomeTeamWinProbability', 'preSnapVisitorTeamWinProbability', 'pff_manZone', 'pff_passCoverage', 'wasInitialPassRusher', 'o_clean', 'a_clean', 's_clean', 'x_clean', 'y_clean', 'dir_clean', 'playDescription', 'playAction', 'passLocationType', 'rushLocationType', 'pff_runConceptPrimary', 'yardsGained', 'homeTeamWinProbabilityAdded', 'visitorTeamWinProbilityAdded']\n"
     ]
    }
   ],
   "source": [
    "# Set paths to local data files\n",
    "players_fname = os.path.join(\"data/raw/players.csv\")\n",
    "plays_fname = os.path.join(\"data/raw/plays.csv\")\n",
    "player_play_fname = os.path.join(\"data/raw/player_play.csv\")\n",
    "games_fname = os.path.join(\"data/raw/games.csv\")\n",
    "tracking_fname_list = [os.path.join(f\"data/raw/tracking_week_{i}.csv\") for i in range(1,10)]\n",
    "\n",
    "# Aggregate data from the plays.csv, players.csv, and any tracking data into one aggregate dataframe.\n",
    "df = aggregate_data(\n",
    "    players_fname=players_fname, \n",
    "    plays_fname=plays_fname,\n",
    "    player_play_fname=player_play_fname, \n",
    "    games_fname=games_fname,\n",
    "    tracking_fname_list=tracking_fname_list,\n",
    "    )\n",
    "\n",
    "# Preprocess and clean the data \n",
    "df_clean = clean_data(df, 'at_snap') # ['at_snap', 'presnap', 'postsnap', 'all']\n",
    "\n",
    "# Reduce the size of the dataframe by removing unnecessary columns\n",
    "game_context_columns = [\n",
    "        \"gameId\",\n",
    "        \"playId\",\n",
    "        \"homeTeamAbbr\",\n",
    "        \"visitorTeamAbbr\",\n",
    "        \"frameId\",\n",
    "        \"nflId\",\n",
    "        \"displayName\",\n",
    "        \"position\",\n",
    "        \"club\",\n",
    "        \"down\",\n",
    "        \"quarter\",\n",
    "        \"yardsToGo\",\n",
    "        \"possessionTeam\",\n",
    "        \"defensiveTeam\",\n",
    "        \"yardlineSide\",\n",
    "        \"yardlineNumber\",\n",
    "        \"gameClock\",\n",
    "        \"preSnapHomeScore\",\n",
    "        \"preSnapVisitorScore\",\n",
    "        \"event\",\n",
    "    ]\n",
    "\n",
    "# Offensive formation, receiver alignment, and pre-snap win probabilities related to OC\n",
    "offense_columns = [\n",
    "        \"offenseFormation\",\n",
    "        \"receiverAlignment\",\n",
    "        \"preSnapHomeTeamWinProbability\",\n",
    "        \"preSnapVisitorTeamWinProbability\",\n",
    "    ]\n",
    "\n",
    "# Defensive formation, pass coverage, and run concept related to DC\n",
    "defensive_columns = [\n",
    "        \"pff_manZone\",\n",
    "        \"pff_passCoverage\",\n",
    "        \"wasInitialPassRusher\",\n",
    "        \"o_clean\",\n",
    "        \"a_clean\",\n",
    "        \"s_clean\",\n",
    "        \"x_clean\",\n",
    "        \"y_clean\",\n",
    "        \"dir_clean\",\n",
    "]\n",
    "\n",
    "# Play description, pass location, rush location, and PFF run concept related to play call\n",
    "play_columns = [\n",
    "        \"playDescription\",\n",
    "        \"playAction\",\n",
    "        \"passLocationType\",\n",
    "        \"rushLocationType\",\n",
    "        \"pff_runConceptPrimary\",\n",
    "    ]\n",
    "\n",
    "# Yards gained, event, and win probability added related to play outcome\n",
    "outcome_columns = [\n",
    "        \"yardsGained\",\n",
    "        \"homeTeamWinProbabilityAdded\",\n",
    "        \"visitorTeamWinProbilityAdded\",\n",
    "    ]\n",
    "\n",
    "# Combine all columns\n",
    "useful_columns = game_context_columns + offense_columns + defensive_columns + play_columns + outcome_columns\n",
    "\n",
    "df_reduced = strip_unused_data(df_clean, useful_columns)\n",
    "\n",
    "print(df_reduced.head())\n",
    "\n",
    "print(df_reduced.columns)"
   ]
  },
  {
   "cell_type": "code",
   "execution_count": 3,
   "metadata": {},
   "outputs": [],
   "source": [
    "csv = True\n",
    "\n",
    "if csv:\n",
    "    # Save the cleaned data to a csv file\n",
    "    df_reduced.write_csv(os.path.join(\"data/processed/df_clean.csv\"))"
   ]
  }
 ],
 "metadata": {
  "kernelspec": {
   "display_name": "venv",
   "language": "python",
   "name": "python3"
  },
  "language_info": {
   "codemirror_mode": {
    "name": "ipython",
    "version": 3
   },
   "file_extension": ".py",
   "mimetype": "text/x-python",
   "name": "python",
   "nbconvert_exporter": "python",
   "pygments_lexer": "ipython3",
   "version": "3.11.9"
  }
 },
 "nbformat": 4,
 "nbformat_minor": 2
}
