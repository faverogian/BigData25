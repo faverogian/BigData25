{
 "cells": [
  {
   "cell_type": "markdown",
   "metadata": {},
   "source": [
    "# Load and Preprocess Data\n",
    "\n",
    "This notebook performs the following steps:\n",
    "\n",
    "1. Load raw data  \n",
    "2. Clean and preprocess data into input features and targets  \n",
    "3. Save data to be used later"
   ]
  },
  {
   "cell_type": "code",
   "execution_count": null,
   "metadata": {},
   "outputs": [
    {
     "ename": "",
     "evalue": "",
     "output_type": "error",
     "traceback": [
      "\u001b[1;31mThe Kernel crashed while executing code in the current cell or a previous cell. \n",
      "\u001b[1;31mPlease review the code in the cell(s) to identify a possible cause of the failure. \n",
      "\u001b[1;31mClick <a href='https://aka.ms/vscodeJupyterKernelCrash'>here</a> for more info. \n",
      "\u001b[1;31mView Jupyter <a href='command:jupyter.viewOutput'>log</a> for further details."
     ]
    }
   ],
   "source": [
    "import torch \n",
    "import numpy as np\n",
    "import pandas as pd\n",
    "import random\n",
    "import os\n",
    "import pickle\n",
    "import matplotlib.pyplot as plt\n",
    "from datetime import datetime\n",
    "from typing import Optional, Union\n",
    "\n",
    "from data_cleaning import clean_data, optimize_memory_usage, aggregate_data\n",
    "\n",
    "VERBOSE = False      # for debugging\n",
    "root_dir = os.getcwd()\n",
    "\n",
    "# set manual custom seed for reproducibility\n",
    "def set_random_seed(value): \n",
    "    g = torch.manual_seed(value)   \n",
    "    np.random.seed(value)\n",
    "    random.seed(value)\n",
    "    torch.backends.cudnn.deterministic=True\n",
    "    return g\n",
    "\n",
    "%load_ext autoreload\n",
    "%autoreload 2"
   ]
  },
  {
   "cell_type": "code",
   "execution_count": null,
   "metadata": {},
   "outputs": [
    {
     "name": "stdout",
     "output_type": "stream",
     "text": [
      "INFO: Aggregating data from play data, tracking data, and players data into a master dataframe...\n"
     ]
    }
   ],
   "source": [
    "plays_fname = os.path.join(root_dir, \"data/plays.csv\")\n",
    "player_play_fname = os.path.join(root_dir, \"data/player_play.csv\")\n",
    "tracking_fname_list = [os.path.join(root_dir, f\"data/tracking_week_{i}.csv\") for i in range(1,10)]\n",
    "\n",
    "import polars as pl\n",
    "\n",
    "# Aggregate data from the plays.csv, players.csv, and any tracking data into one aggregate dataframe.\n",
    "df = aggregate_data(plays_fname, player_play_fname, tracking_fname_list)\n",
    "\n",
    "# Preprocess and clean the data\n",
    "df_clean = clean_data(df)\n",
    "\n",
    "# optimize memory usage of dataframe\n",
    "df_opt = optimize_memory_usage(df_clean)\n",
    "\n",
    "print(df_opt.head())"
   ]
  }
 ],
 "metadata": {
  "kernelspec": {
   "display_name": "venv",
   "language": "python",
   "name": "python3"
  },
  "language_info": {
   "codemirror_mode": {
    "name": "ipython",
    "version": 3
   },
   "file_extension": ".py",
   "mimetype": "text/x-python",
   "name": "python",
   "nbconvert_exporter": "python",
   "pygments_lexer": "ipython3",
   "version": "3.11.9"
  }
 },
 "nbformat": 4,
 "nbformat_minor": 2
}
